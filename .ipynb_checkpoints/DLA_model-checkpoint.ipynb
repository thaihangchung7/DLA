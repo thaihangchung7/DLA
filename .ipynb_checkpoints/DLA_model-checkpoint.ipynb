{
 "cells": [
  {
   "cell_type": "markdown",
   "metadata": {},
   "source": [
    "**Code Author: Thaihang Chung**"
   ]
  },
  {
   "cell_type": "code",
   "execution_count": 1,
   "metadata": {},
   "outputs": [],
   "source": [
    "import math\n",
    "from pylab import *\n",
    "import matplotlib.pyplot as plt\n",
    "from matplotlib import colors\n",
    "import random\n",
    "import numpy as np\n",
    "from sklearn.linear_model import LinearRegression"
   ]
  },
  {
   "cell_type": "code",
   "execution_count": null,
   "metadata": {},
   "outputs": [],
   "source": []
  },
  {
   "cell_type": "code",
   "execution_count": 2,
   "metadata": {},
   "outputs": [
    {
     "data": {
      "image/png": "[encoded data removed]",
      "text/plain": [
       "<Figure size 432x288 with 1 Axes>"
      ]
     },
     "metadata": {
      "needs_background": "light"
     },
     "output_type": "display_data"
    }
   ],
   "source": [
    "L = 101\n",
    "runs = 1000\n",
    "bounce = 0.5 #this seems to only run if random walk cell code twice \n",
    "x_grid = L\n",
    "y_grid = L\n",
    "grid = zeros((L-1,L-1))\n",
    "#creating grid\n",
    "def plotfigure(grid):\n",
    "    fig = plt.figure()\n",
    "    ax = fig.add_subplot(111)\n",
    "    plt.title(\"Cluster\")\n",
    "    plt.xlabel(\"x\")\n",
    "    plt.ylabel(\"y\")\n",
    "    ax.imshow(grid, aspect='auto', interpolation='nearest')\n",
    "plotfigure(grid)"
   ]
  },
  {
   "cell_type": "code",
   "execution_count": 3,
   "metadata": {},
   "outputs": [
    {
     "name": "stdout",
     "output_type": "stream",
     "text": [
      "49\n",
      "[[0. 0. 0. ... 0. 0. 0.]\n",
      " [0. 0. 0. ... 0. 0. 0.]\n",
      " [0. 0. 0. ... 0. 0. 0.]\n",
      " ...\n",
      " [0. 0. 0. ... 0. 0. 0.]\n",
      " [0. 0. 0. ... 0. 0. 0.]\n",
      " [0. 0. 0. ... 0. 0. 0.]]\n"
     ]
    },
    {
     "data": {
      "image/png": "[encoded data removed]",
      "text/plain": [
       "<Figure size 432x288 with 1 Axes>"
      ]
     },
     "metadata": {
      "needs_background": "light"
     },
     "output_type": "display_data"
    }
   ],
   "source": [
    "grid = zeros((L-1,L-1))\n",
    "#image = Image.new(\"L\", (x_grid, y_grid))\n",
    "\n",
    "# checker array\n",
    "s_x = [-1, -1, 0, 1, 1, 1, 0, -1]\n",
    "s_y = [0, 1, 1, 1, 0, -1, -1, -1]\n",
    "\n",
    "x_anchor = (x_grid - 1) // 2\n",
    "y_anchor = (y_grid - 1) // 2\n",
    "rmax = min(x_anchor, y_anchor) - 1\n",
    "grid[x_anchor,y_anchor]=1\n",
    "\n",
    "print(rmax)\n",
    "#boolean table\n",
    "print(grid)\n",
    "\n",
    "plotfigure(grid)"
   ]
  },
  {
   "cell_type": "code",
   "execution_count": 16,
   "metadata": {},
   "outputs": [
    {
     "name": "stdout",
     "output_type": "stream",
     "text": [
      "4 %\n",
      "6 %\n",
      "8 %\n",
      "10 %\n",
      "11 %\n",
      "12 %\n",
      "13 %\n",
      "17 %\n",
      "18 %\n",
      "21 %\n",
      "24 %\n",
      "24 %\n",
      "24 %\n",
      "24 %\n",
      "27 %\n",
      "30 %\n",
      "37 %\n",
      "38 %\n",
      "39 %\n",
      "40 %\n",
      "42 %\n",
      "42 %\n",
      "42 %\n",
      "47 %\n",
      "51 %\n",
      "54 %\n",
      "65 %\n",
      "66 %\n",
      "69 %\n",
      "82 %\n",
      "85 %\n",
      "85 %\n",
      "86 %\n",
      "89 %\n",
      "91 %\n",
      "93 %\n",
      "95 %\n",
      "97 %\n",
      "97 %\n",
      "98 %\n",
      "100 %\n",
      "Number of particles in cluster: 107\n",
      "Radius of the cluster: 49\n",
      "L101N1000.png\n"
     ]
    },
    {
     "data": {
      "image/png": "[encoded data removed]",
      "text/plain": [
       "<Figure size 432x288 with 1 Axes>"
      ]
     },
     "metadata": {
      "needs_background": "light"
     },
     "output_type": "display_data"
    }
   ],
   "source": [
    "r_i = 2\n",
    "N = 0 #initializing number of particles in cluster\n",
    "t = 0 #Initializing time steps\n",
    "\n",
    "Narray = [] #array for number of particles in cluster\n",
    "tarray = [] #array for time step\n",
    "Darray = [] #array for Dimension\n",
    "rarray = [] #array for Radius\n",
    "xwalk = []\n",
    "ywalk = []\n",
    "while r_i < rmax:\n",
    "    \n",
    "    a = random.random() * math.pi * 2.0\n",
    "    x = int(x_anchor + r_i * math.cos(a))\n",
    "    y = int(y_anchor + r_i * math.sin(a))\n",
    "    # random walk\n",
    "    clustered = False\n",
    "    for i in range(runs):\n",
    "        t+=1\n",
    "        a = random.randint(0, 7)\n",
    "        x = x + s_x[a]\n",
    "        y = y + s_y[a]\n",
    "        \n",
    "        if x < 0 or x > 2*rmax or y < 0 or y > 2*rmax:\n",
    "            break\n",
    "        if grid[x][y] == 0:\n",
    "            # check the neighbors\n",
    "            for j in range(8):\n",
    "                x_cont = int(x + s_x[j])\n",
    "                y_cont = int(y + s_y[j])\n",
    "                \n",
    "                if grid[x_cont][y_cont] > 0:\n",
    "                    N+=1\n",
    "                    Narray.append(N)\n",
    "                    tarray.append(t)\n",
    "                    if random.random() >= bounce: #cell needs to run twice!\n",
    "                        grid[x][y] = 1\n",
    "                    else:\n",
    "                        grid[x][y] = 0\n",
    "                    \n",
    "                    r = math.sqrt((x - x_anchor) ** 2.0 + (y - y_anchor) ** 2.0)\n",
    "                    rarray.append(r)\n",
    "                    if r > r_i:\n",
    "                        r_i = r\n",
    "                        print (str(int(100 * r_i / rmax)),\"%\")\n",
    "                    clustered = True\n",
    "                    break\n",
    "        if clustered == True:\n",
    "            break\n",
    "\n",
    "print(\"Number of particles in cluster:\",N)\n",
    "print(\"Radius of the cluster:\", rmax)\n",
    "plotfigure(grid)\n",
    "\n",
    "figfile = 'L'+str(L)+'N'+str(runs)+'.png'\n",
    "print(figfile)\n",
    "plt.savefig(figfile)"
   ]
  },
  {
   "cell_type": "code",
   "execution_count": 17,
   "metadata": {},
   "outputs": [],
   "source": [
    "#Attempt at linear regression in python\n",
    "def linreg(g,h):\n",
    "    x = g.reshape((-1,1))\n",
    "    y = h\n",
    "    #print(x)\n",
    "    #print(y)\n",
    "    model = LinearRegression().fit(x, y)\n",
    "    print('intercept:', model.intercept_)\n",
    "    print('slope:', model.coef_)\n",
    "    \n",
    "    new_model = LinearRegression().fit(x, y.reshape((-1, 1)))\n",
    "    Dfit = new_model.coef_\n",
    "    print('intercept:', new_model.intercept_)\n",
    "    print('slope:', new_model.coef_)\n",
    "    y_pred = model.predict(x)\n",
    "    y_pred = model.intercept_ + model.coef_ * x\n",
    "    x_new = g.reshape((-1, 1))\n",
    "    y_new = model.predict(x_new)\n",
    "    plt.plot(x_new,y_new,'r')\n",
    "    plt.text(1, 1, 'D='+str(Dfit) , fontsize=15)\n",
    "    "
   ]
  },
  {
   "cell_type": "code",
   "execution_count": 28,
   "metadata": {},
   "outputs": [
    {
     "name": "stdout",
     "output_type": "stream",
     "text": [
      "Number of particles in cluster: 107\n",
      "Radius of the cluster: 49.20365840057018\n",
      "Number of radii recorded: 107\n",
      "This is the cluster dimension:  1.199401242588794\n"
     ]
    }
   ],
   "source": [
    "print(\"Number of particles in cluster:\",len(Narray))\n",
    "print(\"Radius of the cluster:\", r_i)\n",
    "print(\"Number of radii recorded:\", len(rarray))\n",
    "\n",
    "#print(\"Time elapsed: \", tarray)\n",
    "tsum = []\n",
    "newt = 0\n",
    "for i in range(len(tarray)):\n",
    "    newt += tarray[i]\n",
    "    tsum.append(newt)\n",
    "#print(tsum)\n",
    "D_cluster = np.log(N)/np.log(r)\n",
    "print(\"This is the cluster dimension: \", D_cluster)\n",
    "\n",
    "N_D = np.log(Narray)\n",
    "R_D = np.log(rarray)\n",
    "\n",
    "#print(Narray, \"This is N array\")\n",
    "#print(\"This is N_D\", N_D)\n",
    "#print(\"This is R_D\", R_D)\n",
    "D = np.divide(N_D,R_D)\n",
    "#print(D)"
   ]
  },
  {
   "cell_type": "markdown",
   "metadata": {},
   "source": [
    "\\begin{equation}\n",
    "    D = \\frac{\\log(N)}{\\log(R)}\n",
    "\\end{equation}\n",
    "\n",
    "\\begin{equation}\n",
    "    \\log(N) = D\\log(R)\n",
    "\\end{equation}"
   ]
  },
  {
   "cell_type": "code",
   "execution_count": 19,
   "metadata": {},
   "outputs": [
    {
     "name": "stdout",
     "output_type": "stream",
     "text": [
      "intercept: 0.38461982851034815\n",
      "slope: [1.13702722]\n",
      "intercept: [0.38461983]\n",
      "slope: [[1.13702722]]\n"
     ]
    },
    {
     "data": {
      "text/plain": [
       "<matplotlib.collections.PathCollection at 0x1f186915e48>"
      ]
     },
     "execution_count": 19,
     "metadata": {},
     "output_type": "execute_result"
    },
    {
     "data": {
      "image/png": "[encoded data removed]",
      "text/plain": [
       "<Figure size 432x288 with 1 Axes>"
      ]
     },
     "metadata": {
      "needs_background": "light"
     },
     "output_type": "display_data"
    }
   ],
   "source": [
    "plt.title(\"Aggregate Mass vs Radius\")\n",
    "plt.xlabel(\"log(R)\")\n",
    "plt.ylabel(\"log(N)\")\n",
    "newR_D = R_D[50:]\n",
    "newN_D = N_D[50:]\n",
    "linreg(R_D,N_D)\n",
    "plt.scatter(R_D,N_D)"
   ]
  },
  {
   "cell_type": "code",
   "execution_count": 20,
   "metadata": {},
   "outputs": [
    {
     "name": "stdout",
     "output_type": "stream",
     "text": [
      "107\n",
      "107\n"
     ]
    },
    {
     "data": {
      "text/plain": [
       "<matplotlib.collections.PathCollection at 0x1f18696c828>"
      ]
     },
     "execution_count": 20,
     "metadata": {},
     "output_type": "execute_result"
    },
    {
     "data": {
      "image/png": "[encoded data removed]",
      "text/plain": [
       "<Figure size 432x288 with 1 Axes>"
      ]
     },
     "metadata": {
      "needs_background": "light"
     },
     "output_type": "display_data"
    }
   ],
   "source": [
    "print(len(D))\n",
    "print(len(tsum))\n",
    "stamp = [rmax / i for i in rarray]\n",
    "newD = D[3:]\n",
    "newtsum = tsum[3:]\n",
    "plt.title(\"Fractal Dimension vs Timestep\")\n",
    "plt.xlabel(\"Timestep\")\n",
    "plt.ylabel(\"D = log(N)/log(R)\")\n",
    "plt.scatter(newtsum,newD)"
   ]
  },
  {
   "cell_type": "code",
   "execution_count": 21,
   "metadata": {},
   "outputs": [
    {
     "data": {
      "text/plain": [
       "<matplotlib.collections.PathCollection at 0x1f1868dca20>"
      ]
     },
     "execution_count": 21,
     "metadata": {},
     "output_type": "execute_result"
    },
    {
     "data": {
      "image/png": "[encoded data removed]",
      "text/plain": [
       "<Figure size 432x288 with 1 Axes>"
      ]
     },
     "metadata": {
      "needs_background": "light"
     },
     "output_type": "display_data"
    }
   ],
   "source": [
    "#print(len(tarray))\n",
    "#print(len(Narray))\n",
    "plt.title(\"Aggregate Mass over time\")\n",
    "plt.xlabel(\"Timestep\")\n",
    "plt.ylabel(\"N\")\n",
    "#fit(tsum,Narray)\n",
    "plt.scatter(tsum,Narray)"
   ]
  },
  {
   "cell_type": "code",
   "execution_count": 22,
   "metadata": {},
   "outputs": [],
   "source": [
    "#print(len(Darray))\n",
    "#print(len(tarray))\n",
    "\n",
    "#plt.plot(tarray,Darray)"
   ]
  },
  {
   "cell_type": "code",
   "execution_count": 23,
   "metadata": {},
   "outputs": [],
   "source": [
    "#print(rarray)\n",
    "\n",
    "stamp = [rmax / i for i in rarray]\n",
    "\n",
    "#print(stamp)"
   ]
  },
  {
   "cell_type": "code",
   "execution_count": 27,
   "metadata": {
    "scrolled": true
   },
   "outputs": [
    {
     "data": {
      "text/plain": [
       "<matplotlib.collections.PathCollection at 0x1f1868b0048>"
      ]
     },
     "execution_count": 27,
     "metadata": {},
     "output_type": "execute_result"
    },
    {
     "data": {
      "image/png": "[encoded data removed]",
      "text/plain": [
       "<Figure size 432x288 with 1 Axes>"
      ]
     },
     "metadata": {
      "needs_background": "light"
     },
     "output_type": "display_data"
    }
   ],
   "source": [
    "#print(len(tarray))\n",
    "#print(len(Narray))\n",
    "stamp.reverse()\n",
    "#Narray.reverse()\n",
    "plt.title(\"Aggregate Mass over time\")\n",
    "plt.xlabel(\"Timestep\")\n",
    "plt.ylabel(\"N\")\n",
    "plt.scatter(stamp,Narray)"
   ]
  },
  {
   "cell_type": "code",
   "execution_count": null,
   "metadata": {},
   "outputs": [],
   "source": []
  },
  {
   "cell_type": "code",
   "execution_count": null,
   "metadata": {},
   "outputs": [],
   "source": []
  },
  {
   "cell_type": "code",
   "execution_count": null,
   "metadata": {},
   "outputs": [],
   "source": []
  }
 ],
 "metadata": {
  "kernelspec": {
   "display_name": "Python 3",
   "language": "python",
   "name": "python3"
  },
  "language_info": {
   "codemirror_mode": {
    "name": "ipython",
    "version": 3
   },
   "file_extension": ".py",
   "mimetype": "text/x-python",
   "name": "python",
   "nbconvert_exporter": "python",
   "pygments_lexer": "ipython3",
   "version": "3.7.3"
  }
 },
 "nbformat": 4,
 "nbformat_minor": 2
}
